{
 "cells": [
  {
   "cell_type": "code",
   "execution_count": 3,
   "id": "2f5cf6bb",
   "metadata": {},
   "outputs": [
    {
     "name": "stdout",
     "output_type": "stream",
     "text": [
      "Prime numbers up to 50:\n",
      "[2, 3, 5, 7, 11, 13, 17, 19, 23, 29, 31, 37, 41, 43, 47]\n"
     ]
    }
   ],
   "source": [
    "def sieve_of_eratosthenes(limit):\n",
    "    # Create a boolean list to mark numbers as prime or not\n",
    "    is_prime = [True] * (limit + 1)\n",
    "    is_prime[0] = is_prime[1] = False  # 0 and 1 are not prime numbers\n",
    "\n",
    "    # Start with the first prime number, 2\n",
    "    current_prime = 2\n",
    "    while current_prime * current_prime <= limit:\n",
    "        if is_prime[current_prime]:\n",
    "            # Mark all multiples of the current prime as not prime\n",
    "            for multiple in range(current_prime * current_prime, limit + 1, current_prime):\n",
    "                is_prime[multiple] = False\n",
    "        current_prime += 1\n",
    "\n",
    "    # Generate a list of prime numbers\n",
    "    primes = [i for i in range(2, limit + 1) if is_prime[i]]\n",
    "    return primes\n",
    "\n",
    "# Example usage:\n",
    "limit = 50\n",
    "prime_list = sieve_of_eratosthenes(limit)\n",
    "print(f\"Prime numbers up to {limit}:\")\n",
    "print(prime_list)\n"
   ]
  },
  {
   "cell_type": "code",
   "execution_count": null,
   "id": "668ac767",
   "metadata": {},
   "outputs": [],
   "source": []
  }
 ],
 "metadata": {
  "kernelspec": {
   "display_name": "Python 3 (ipykernel)",
   "language": "python",
   "name": "python3"
  },
  "language_info": {
   "codemirror_mode": {
    "name": "ipython",
    "version": 3
   },
   "file_extension": ".py",
   "mimetype": "text/x-python",
   "name": "python",
   "nbconvert_exporter": "python",
   "pygments_lexer": "ipython3",
   "version": "3.9.17"
  }
 },
 "nbformat": 4,
 "nbformat_minor": 5
}
